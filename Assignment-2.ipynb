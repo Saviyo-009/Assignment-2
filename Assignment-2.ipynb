{
 "cells": [
  {
   "cell_type": "markdown",
   "id": "26c38c6e",
   "metadata": {},
   "source": [
    "### Assignment 2  - Web Scrapping"
   ]
  },
  {
   "cell_type": "markdown",
   "id": "5aba82db",
   "metadata": {},
   "source": [
    "### By: Anif Savio Rodrigues"
   ]
  },
  {
   "cell_type": "markdown",
   "id": "45e41acd",
   "metadata": {},
   "source": [
    "### Internship Company : Unmessenger"
   ]
  },
  {
   "cell_type": "markdown",
   "id": "667fd799",
   "metadata": {},
   "source": [
    "### Batch No.: 1203"
   ]
  },
  {
   "cell_type": "markdown",
   "id": "fa1c7f25",
   "metadata": {},
   "source": [
    "### Objectives\n",
    "#### 1) Scrape author, quote and tags from the given website,\n",
    "#### 2) Save the scaraped data eithyer in the CSV or Excel file."
   ]
  },
  {
   "cell_type": "markdown",
   "id": "14fb1ea0",
   "metadata": {},
   "source": [
    "### Installing BeautifulSoup Package"
   ]
  },
  {
   "cell_type": "code",
   "execution_count": 1,
   "id": "0183243a",
   "metadata": {},
   "outputs": [
    {
     "name": "stdout",
     "output_type": "stream",
     "text": [
      "Requirement already satisfied: bs4 in c:\\users\\x280\\anaconda3\\lib\\site-packages (0.0.1)\n",
      "Requirement already satisfied: beautifulsoup4 in c:\\users\\x280\\anaconda3\\lib\\site-packages (from bs4) (4.11.1)\n",
      "Requirement already satisfied: soupsieve>1.2 in c:\\users\\x280\\anaconda3\\lib\\site-packages (from beautifulsoup4->bs4) (2.3.1)\n",
      "Note: you may need to restart the kernel to use updated packages.\n"
     ]
    }
   ],
   "source": [
    "pip install bs4"
   ]
  },
  {
   "cell_type": "markdown",
   "id": "a4d46d10",
   "metadata": {},
   "source": [
    "### Importing Necessary Libraries"
   ]
  },
  {
   "cell_type": "code",
   "execution_count": 2,
   "id": "c89fa2f8",
   "metadata": {},
   "outputs": [],
   "source": [
    "import requests\n",
    "from bs4 import BeautifulSoup\n",
    "import pandas as pd"
   ]
  },
  {
   "cell_type": "markdown",
   "id": "61b6314b",
   "metadata": {},
   "source": [
    "### Assigning the URL to a variable"
   ]
  },
  {
   "cell_type": "code",
   "execution_count": 3,
   "id": "3801c1ae",
   "metadata": {},
   "outputs": [],
   "source": [
    "url = \"http://quotes.toscrape.com/page/1//\""
   ]
  },
  {
   "cell_type": "markdown",
   "id": "d1fca529",
   "metadata": {},
   "source": [
    "### Retrieving the URL content using the get function from requests library"
   ]
  },
  {
   "cell_type": "code",
   "execution_count": 4,
   "id": "9ab02560",
   "metadata": {},
   "outputs": [],
   "source": [
    "response = requests.get(url)"
   ]
  },
  {
   "cell_type": "markdown",
   "id": "09621e3c",
   "metadata": {},
   "source": [
    "### Assigning the retrieved content to the 'response' variable (overwriting)."
   ]
  },
  {
   "cell_type": "code",
   "execution_count": 5,
   "id": "375d0ce0",
   "metadata": {},
   "outputs": [],
   "source": [
    "response = response.content"
   ]
  },
  {
   "cell_type": "markdown",
   "id": "796566c7",
   "metadata": {},
   "source": [
    "### Using BeautifulSoup for parsing the HTML content."
   ]
  },
  {
   "cell_type": "code",
   "execution_count": 6,
   "id": "8e180620",
   "metadata": {},
   "outputs": [],
   "source": [
    "soup = BeautifulSoup(response,'html.parser')"
   ]
  },
  {
   "cell_type": "markdown",
   "id": "291554d8",
   "metadata": {},
   "source": [
    "### Using the .find() method to find the first occurence of the 'div' element"
   ]
  },
  {
   "cell_type": "code",
   "execution_count": 7,
   "id": "d801b735",
   "metadata": {},
   "outputs": [],
   "source": [
    "div = soup.find('div')"
   ]
  },
  {
   "cell_type": "markdown",
   "id": "1d974264",
   "metadata": {},
   "source": [
    "### Using the .findall() method to find all the 'div' elements from the 'quote' class"
   ]
  },
  {
   "cell_type": "code",
   "execution_count": 8,
   "id": "ba50c5ca",
   "metadata": {},
   "outputs": [],
   "source": [
    "divs = div.find_all('div',class_ ='quote')"
   ]
  },
  {
   "cell_type": "markdown",
   "id": "0b9c2bdc",
   "metadata": {},
   "source": [
    "### Passing a for loop to print the author names using the '.get_text()' method"
   ]
  },
  {
   "cell_type": "code",
   "execution_count": 9,
   "id": "15001e88",
   "metadata": {},
   "outputs": [
    {
     "name": "stdout",
     "output_type": "stream",
     "text": [
      "Albert Einstein\n",
      "J.K. Rowling\n",
      "Albert Einstein\n",
      "Jane Austen\n",
      "Marilyn Monroe\n",
      "Albert Einstein\n",
      "André Gide\n",
      "Thomas A. Edison\n",
      "Eleanor Roosevelt\n",
      "Steve Martin\n"
     ]
    }
   ],
   "source": [
    "for div in divs:\n",
    "    small = div.find('small',class_='author')\n",
    "    author = small.get_text()\n",
    "    print(author)"
   ]
  },
  {
   "cell_type": "markdown",
   "id": "5ba06bbf",
   "metadata": {},
   "source": [
    "### Passing a for loop to print the quotes using the '.get_text()' method"
   ]
  },
  {
   "cell_type": "code",
   "execution_count": 10,
   "id": "4003d184",
   "metadata": {},
   "outputs": [
    {
     "name": "stdout",
     "output_type": "stream",
     "text": [
      "“The world as we have created it is a process of our thinking. It cannot be changed without changing our thinking.”\n",
      "“It is our choices, Harry, that show what we truly are, far more than our abilities.”\n",
      "“There are only two ways to live your life. One is as though nothing is a miracle. The other is as though everything is a miracle.”\n",
      "“The person, be it gentleman or lady, who has not pleasure in a good novel, must be intolerably stupid.”\n",
      "“Imperfection is beauty, madness is genius and it's better to be absolutely ridiculous than absolutely boring.”\n",
      "“Try not to become a man of success. Rather become a man of value.”\n",
      "“It is better to be hated for what you are than to be loved for what you are not.”\n",
      "“I have not failed. I've just found 10,000 ways that won't work.”\n",
      "“A woman is like a tea bag; you never know how strong it is until it's in hot water.”\n",
      "“A day without sunshine is like, you know, night.”\n"
     ]
    }
   ],
   "source": [
    "for div in divs:\n",
    "    span = div.find('span',class_='text')\n",
    "    quote = span.get_text()\n",
    "    print(quote)"
   ]
  },
  {
   "cell_type": "markdown",
   "id": "c3296308",
   "metadata": {},
   "source": [
    "### Passing a for loop to print the tags using the .attrs method"
   ]
  },
  {
   "cell_type": "code",
   "execution_count": 11,
   "id": "eeaf356a",
   "metadata": {},
   "outputs": [
    {
     "name": "stdout",
     "output_type": "stream",
     "text": [
      "change,deep-thoughts,thinking,world\n",
      "abilities,choices\n",
      "inspirational,life,live,miracle,miracles\n",
      "aliteracy,books,classic,humor\n",
      "be-yourself,inspirational\n",
      "adulthood,success,value\n",
      "life,love\n",
      "edison,failure,inspirational,paraphrased\n",
      "misattributed-eleanor-roosevelt\n",
      "humor,obvious,simile\n"
     ]
    }
   ],
   "source": [
    "for div in divs:\n",
    "    meta = div.find('meta')\n",
    "    tags = meta.attrs['content']\n",
    "    print(tags)"
   ]
  },
  {
   "cell_type": "markdown",
   "id": "8834d8ff",
   "metadata": {},
   "source": [
    "### Combining all the above codes to assign author names, quote and tags in a single list"
   ]
  },
  {
   "cell_type": "code",
   "execution_count": 12,
   "id": "49ba6e86",
   "metadata": {},
   "outputs": [],
   "source": [
    "quotes = []\n",
    "\n",
    "for pages in range(1,11):\n",
    "    url = f\"http://quotes.toscrape.com/page/{pages}/\"\n",
    "    response = requests.get(url)\n",
    "    response = response.content\n",
    "    soup = BeautifulSoup(response,'html.parser')\n",
    "    div = soup.find('div')\n",
    "    divs = div.find_all('div',class_ ='quote')\n",
    "    \n",
    "    for div in divs:\n",
    "        small = div.find('small',class_='author')\n",
    "        author = small.get_text()\n",
    "        span = div.find('span',class_='text')\n",
    "        quote = span.get_text()\n",
    "        meta = div.find('meta')\n",
    "        tags = meta.attrs['content']\n",
    "        quotes.append([author,quote,tags])\n"
   ]
  },
  {
   "cell_type": "markdown",
   "id": "6e777adb",
   "metadata": {},
   "source": [
    "### Creating a pandas DataFrame object using the data stored in the quotes variable"
   ]
  },
  {
   "cell_type": "code",
   "execution_count": 13,
   "id": "9e469a11",
   "metadata": {},
   "outputs": [],
   "source": [
    "df = pd.DataFrame(quotes,columns = ['Author','Quote','Tags'])"
   ]
  },
  {
   "cell_type": "markdown",
   "id": "c1f57787",
   "metadata": {},
   "source": [
    "### Printing the DataFrame"
   ]
  },
  {
   "cell_type": "code",
   "execution_count": 14,
   "id": "04f2a5eb",
   "metadata": {},
   "outputs": [
    {
     "data": {
      "text/html": [
       "<div>\n",
       "<style scoped>\n",
       "    .dataframe tbody tr th:only-of-type {\n",
       "        vertical-align: middle;\n",
       "    }\n",
       "\n",
       "    .dataframe tbody tr th {\n",
       "        vertical-align: top;\n",
       "    }\n",
       "\n",
       "    .dataframe thead th {\n",
       "        text-align: right;\n",
       "    }\n",
       "</style>\n",
       "<table border=\"1\" class=\"dataframe\">\n",
       "  <thead>\n",
       "    <tr style=\"text-align: right;\">\n",
       "      <th></th>\n",
       "      <th>Author</th>\n",
       "      <th>Quote</th>\n",
       "      <th>Tags</th>\n",
       "    </tr>\n",
       "  </thead>\n",
       "  <tbody>\n",
       "    <tr>\n",
       "      <th>0</th>\n",
       "      <td>Albert Einstein</td>\n",
       "      <td>“The world as we have created it is a process ...</td>\n",
       "      <td>change,deep-thoughts,thinking,world</td>\n",
       "    </tr>\n",
       "    <tr>\n",
       "      <th>1</th>\n",
       "      <td>J.K. Rowling</td>\n",
       "      <td>“It is our choices, Harry, that show what we t...</td>\n",
       "      <td>abilities,choices</td>\n",
       "    </tr>\n",
       "    <tr>\n",
       "      <th>2</th>\n",
       "      <td>Albert Einstein</td>\n",
       "      <td>“There are only two ways to live your life. On...</td>\n",
       "      <td>inspirational,life,live,miracle,miracles</td>\n",
       "    </tr>\n",
       "    <tr>\n",
       "      <th>3</th>\n",
       "      <td>Jane Austen</td>\n",
       "      <td>“The person, be it gentleman or lady, who has ...</td>\n",
       "      <td>aliteracy,books,classic,humor</td>\n",
       "    </tr>\n",
       "    <tr>\n",
       "      <th>4</th>\n",
       "      <td>Marilyn Monroe</td>\n",
       "      <td>“Imperfection is beauty, madness is genius and...</td>\n",
       "      <td>be-yourself,inspirational</td>\n",
       "    </tr>\n",
       "    <tr>\n",
       "      <th>...</th>\n",
       "      <td>...</td>\n",
       "      <td>...</td>\n",
       "      <td>...</td>\n",
       "    </tr>\n",
       "    <tr>\n",
       "      <th>95</th>\n",
       "      <td>Harper Lee</td>\n",
       "      <td>“You never really understand a person until yo...</td>\n",
       "      <td>better-life-empathy</td>\n",
       "    </tr>\n",
       "    <tr>\n",
       "      <th>96</th>\n",
       "      <td>Madeleine L'Engle</td>\n",
       "      <td>“You have to write the book that wants to be w...</td>\n",
       "      <td>books,children,difficult,grown-ups,write,write...</td>\n",
       "    </tr>\n",
       "    <tr>\n",
       "      <th>97</th>\n",
       "      <td>Mark Twain</td>\n",
       "      <td>“Never tell the truth to people who are not wo...</td>\n",
       "      <td>truth</td>\n",
       "    </tr>\n",
       "    <tr>\n",
       "      <th>98</th>\n",
       "      <td>Dr. Seuss</td>\n",
       "      <td>“A person's a person, no matter how small.”</td>\n",
       "      <td>inspirational</td>\n",
       "    </tr>\n",
       "    <tr>\n",
       "      <th>99</th>\n",
       "      <td>George R.R. Martin</td>\n",
       "      <td>“... a mind needs books as a sword needs a whe...</td>\n",
       "      <td>books,mind</td>\n",
       "    </tr>\n",
       "  </tbody>\n",
       "</table>\n",
       "<p>100 rows × 3 columns</p>\n",
       "</div>"
      ],
      "text/plain": [
       "                Author                                              Quote  \\\n",
       "0      Albert Einstein  “The world as we have created it is a process ...   \n",
       "1         J.K. Rowling  “It is our choices, Harry, that show what we t...   \n",
       "2      Albert Einstein  “There are only two ways to live your life. On...   \n",
       "3          Jane Austen  “The person, be it gentleman or lady, who has ...   \n",
       "4       Marilyn Monroe  “Imperfection is beauty, madness is genius and...   \n",
       "..                 ...                                                ...   \n",
       "95          Harper Lee  “You never really understand a person until yo...   \n",
       "96   Madeleine L'Engle  “You have to write the book that wants to be w...   \n",
       "97          Mark Twain  “Never tell the truth to people who are not wo...   \n",
       "98           Dr. Seuss        “A person's a person, no matter how small.”   \n",
       "99  George R.R. Martin  “... a mind needs books as a sword needs a whe...   \n",
       "\n",
       "                                                 Tags  \n",
       "0                 change,deep-thoughts,thinking,world  \n",
       "1                                   abilities,choices  \n",
       "2            inspirational,life,live,miracle,miracles  \n",
       "3                       aliteracy,books,classic,humor  \n",
       "4                           be-yourself,inspirational  \n",
       "..                                                ...  \n",
       "95                                better-life-empathy  \n",
       "96  books,children,difficult,grown-ups,write,write...  \n",
       "97                                              truth  \n",
       "98                                      inspirational  \n",
       "99                                         books,mind  \n",
       "\n",
       "[100 rows x 3 columns]"
      ]
     },
     "execution_count": 14,
     "metadata": {},
     "output_type": "execute_result"
    }
   ],
   "source": [
    "df"
   ]
  },
  {
   "cell_type": "markdown",
   "id": "65707edf",
   "metadata": {},
   "source": [
    "### Exporting the DataFrame to a csv file"
   ]
  },
  {
   "cell_type": "code",
   "execution_count": 15,
   "id": "7c78c1a7",
   "metadata": {},
   "outputs": [],
   "source": [
    "df.to_csv('Assignment-2.csv')"
   ]
  }
 ],
 "metadata": {
  "kernelspec": {
   "display_name": "Python 3 (ipykernel)",
   "language": "python",
   "name": "python3"
  },
  "language_info": {
   "codemirror_mode": {
    "name": "ipython",
    "version": 3
   },
   "file_extension": ".py",
   "mimetype": "text/x-python",
   "name": "python",
   "nbconvert_exporter": "python",
   "pygments_lexer": "ipython3",
   "version": "3.9.12"
  }
 },
 "nbformat": 4,
 "nbformat_minor": 5
}
